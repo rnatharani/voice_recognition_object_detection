{
 "cells": [
  {
   "cell_type": "code",
   "execution_count": 1,
   "metadata": {},
   "outputs": [],
   "source": [
    "import speech_recognition as sr\n",
    "r= sr.Recognizer()\n",
    "mic = sr.Microphone()\n",
    "data=[]"
   ]
  },
  {
   "cell_type": "code",
   "execution_count": 2,
   "metadata": {},
   "outputs": [],
   "source": [
    "import spacy \n",
    "  \n",
    "# python -m spacy download en_core_web_sm \n",
    "nlp = spacy.load(\"en_core_web_sm\") "
   ]
  },
  {
   "cell_type": "code",
   "execution_count": 3,
   "metadata": {},
   "outputs": [],
   "source": [
    "def listen():\n",
    "    text=''\n",
    "    with mic as source:\n",
    "        r.adjust_for_ambient_noise(source )\n",
    "        audio=r.listen(source)\n",
    "    try:\n",
    "        text = r.recognize_google(audio)\n",
    "        print(\"you said: \" + text)\n",
    "        return text\n",
    "\n",
    "        #error occurs when google could not understand what was said\n",
    "\n",
    "    except sr.UnknownValueError:\n",
    "        print(\"Google Speech Recognition could not understand audio\")\n",
    "        return 0\n",
    "\n",
    "    except sr.RequestError as e:\n",
    "        print(\"Could not request results from Google Speech Recognition service; {0}\".format(e))\n",
    "        return -1 \n",
    "\n",
    "\n"
   ]
  },
  {
   "cell_type": "code",
   "execution_count": 4,
   "metadata": {},
   "outputs": [],
   "source": [
    "def tokenize():\n",
    "    res=listen()\n",
    "    if (res.lower() == \"hey tuffy\" or res.lower() == \"hey duffy\"):\n",
    "        print(\"what do you want?\")\n",
    "        instruction = listen()\n",
    "        #print(instruction)\n",
    "        if (instruction != 0 or instruction != -1):\n",
    "            doc = nlp(instruction)\n",
    "            #print(doc)\n",
    "            # Token and Tag \n",
    "            for token in doc: \n",
    "                #print(token, token.pos_) \n",
    "                if token.pos_ == \"VERB\":\n",
    "                    action= token.text\n",
    "                    if action != 1:\n",
    "                        print(\"Action: \" + action)\n",
    "                \n",
    "                if token.pos_ == \"ADJ\":\n",
    "                    adj= token.text\n",
    "                    if adj != 1:\n",
    "                        print(\"Adjective: \" + adj)\n",
    "                    \n",
    "                if token.pos_ == \"NOUN\":\n",
    "                    obj= token.text\n",
    "                    if obj != 1:\n",
    "                        print(\"Object: \" + obj)\n",
    "        else:\n",
    "            print(\"instruction not understood\")\n",
    "            return 0\n",
    "    else:\n",
    "        print(\"not an instruction\")\n",
    "        return 0"
   ]
  },
  {
   "cell_type": "code",
   "execution_count": 23,
   "metadata": {},
   "outputs": [
    {
     "name": "stdout",
     "output_type": "stream",
     "text": [
      "you said: hey Tuffy\n",
      "what do you want?\n",
      "you said: pick up the blue bottle\n",
      "Action: pick\n",
      "Adjective: blue\n",
      "Object: bottle\n"
     ]
    }
   ],
   "source": [
    "tokenize()"
   ]
  }
 ],
 "metadata": {
  "kernelspec": {
   "display_name": "Python 3",
   "language": "python",
   "name": "python3"
  },
  "language_info": {
   "codemirror_mode": {
    "name": "ipython",
    "version": 3
   },
   "file_extension": ".py",
   "mimetype": "text/x-python",
   "name": "python",
   "nbconvert_exporter": "python",
   "pygments_lexer": "ipython3",
   "version": "3.8.5"
  }
 },
 "nbformat": 4,
 "nbformat_minor": 4
}
